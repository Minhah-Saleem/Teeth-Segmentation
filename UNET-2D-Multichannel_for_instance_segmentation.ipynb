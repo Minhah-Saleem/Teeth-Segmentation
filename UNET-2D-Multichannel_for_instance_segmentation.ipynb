{
 "cells": [
  {
   "cell_type": "code",
   "execution_count": 1,
   "id": "291ef014",
   "metadata": {},
   "outputs": [],
   "source": [
    "import os\n",
    "os.environ['CUDA_VISIBLE_DEVICES'] = '0'"
   ]
  },
  {
   "cell_type": "code",
   "execution_count": 2,
   "id": "0a898501",
   "metadata": {},
   "outputs": [],
   "source": [
    "%load_ext autoreload"
   ]
  },
  {
   "cell_type": "code",
   "execution_count": 3,
   "id": "c1fe12fd",
   "metadata": {},
   "outputs": [
    {
     "name": "stderr",
     "output_type": "stream",
     "text": [
      "2022-04-25 20:34:00.895552: I tensorflow/stream_executor/platform/default/dso_loader.cc:48] Successfully opened dynamic library libcudart.so.10.1\n"
     ]
    }
   ],
   "source": [
    "from numpy.random import seed\n",
    "seed(42)\n",
    "import tensorflow\n",
    "tensorflow.random.set_seed(42)"
   ]
  },
  {
   "cell_type": "code",
   "execution_count": 4,
   "id": "175a7d5d",
   "metadata": {},
   "outputs": [],
   "source": [
    "import os\n",
    "import numpy as np\n",
    "import nibabel as nib\n",
    "import nibabel.orientations as nio\n",
    "import matplotlib.pyplot as plt\n",
    "from tqdm import tqdm\n",
    "import tensorflow as tf\n",
    "from tensorflow import keras\n",
    "from skimage import io\n",
    "from patchify import patchify, unpatchify\n",
    "import numpy as np\n",
    "from matplotlib import pyplot as plt\n",
    "from tensorflow.keras import backend as K\n",
    "from tensorflow.keras.utils import to_categorical\n",
    "from sklearn.model_selection import train_test_split\n",
    "import numpy as np\n",
    "from numpy import load\n",
    "import glob\n",
    "import sys\n",
    "import json\n",
    "import time\n",
    "from PIL import Image, ImageDraw\n",
    "from pathlib import Path\n",
    "import os\n",
    "import shutil\n",
    "import re\n",
    "import zipfile\n",
    "\n",
    "import matplotlib.pyplot as plt\n",
    "import cv2\n",
    "\n",
    "import numpy as np\n",
    "import pickle\n",
    "from tqdm import tqdm\n",
    "\n",
    "import io\n",
    "import base64\n",
    "from IPython.display import HTML"
   ]
  },
  {
   "cell_type": "code",
   "execution_count": 5,
   "id": "0ed3e3c4",
   "metadata": {},
   "outputs": [],
   "source": [
    "# Loss Function and coefficients to be used during training:\n",
    "def dice_coe(y_true,y_pred, loss_type='jaccard', smooth=1.):\n",
    "\n",
    "    y_true_f = tf.reshape(y_true,[-1])\n",
    "    y_pred_f = tf.reshape(y_pred,[-1])\n",
    "\n",
    "    intersection = tf.reduce_sum(y_true_f * y_pred_f)\n",
    "\n",
    "    if loss_type == 'jaccard':\n",
    "        union = tf.reduce_sum(tf.square(y_pred_f)) + tf.reduce_sum(tf.square(y_true_f))\n",
    "\n",
    "    elif loss_type == 'sorensen':\n",
    "        union = tf.reduce_sum(y_pred_f) + tf.reduce_sum(y_true_f)\n",
    "\n",
    "    else:\n",
    "        raise ValueError(\"Unknown `loss_type`: %s\" % loss_type)\n",
    "\n",
    "    return (2. * intersection + smooth) / (union + smooth)"
   ]
  },
  {
   "cell_type": "code",
   "execution_count": 6,
   "id": "81adfd54",
   "metadata": {},
   "outputs": [],
   "source": [
    "def dice_loss(y_true,y_pred, loss_type='jaccard', smooth=1.):\n",
    "\n",
    "    y_true_f = tf.cast(tf.reshape(y_true,[-1]),tf.float32)\n",
    "    y_pred_f =tf.cast(tf.reshape(y_pred,[-1]),tf.float32)\n",
    "\n",
    "    intersection = tf.reduce_sum(y_true_f * y_pred_f)\n",
    "\n",
    "    if loss_type == 'jaccard':\n",
    "        union = tf.reduce_sum(tf.square(y_pred_f)) + tf.reduce_sum(tf.square(y_true_f))\n",
    "\n",
    "    elif loss_type == 'sorensen':\n",
    "        union = tf.reduce_sum(y_pred_f) + tf.reduce_sum(y_true_f)\n",
    "\n",
    "    else:\n",
    "        raise ValueError(\"Unknown `loss_type`: %s\" % loss_type)\n",
    "\n",
    "    return (1-(2. * intersection + smooth) / (union + smooth))"
   ]
  },
  {
   "cell_type": "code",
   "execution_count": 7,
   "id": "846c3611",
   "metadata": {},
   "outputs": [],
   "source": [
    "activation = 'softmax'#'sigmoid'\n",
    "patch_size_x =128 \n",
    "patch_size_y =128 \n",
    "n_classes = 33#1\n",
    "channels=3\n",
    "\n",
    "LR = 0.0001\n",
    "optim = tf.keras.optimizers.Adam(LR)"
   ]
  },
  {
   "cell_type": "code",
   "execution_count": 8,
   "id": "a606cda3",
   "metadata": {},
   "outputs": [],
   "source": [
    "from tensorflow.keras.models import Model\n",
    "from tensorflow.keras.optimizers import Adam\n",
    "from tensorflow.keras.layers import Conv2D, Input, MaxPooling2D, Dropout, concatenate, UpSampling2D, BatchNormalization\n",
    "import tensorflow as tf\n",
    "\n",
    "def Unet2D(inputs,num_classes):\n",
    "    x=inputs\n",
    "    conv1 = Conv2D(8, 3, activation = 'relu', padding = 'same',data_format=\"channels_last\")(x)\n",
    "    conv1= BatchNormalization()(conv1)\n",
    "    conv1 = Conv2D(8, 3, activation = 'relu', padding = 'same')(conv1)\n",
    "    conv1= BatchNormalization()(conv1)\n",
    "    pool1 = MaxPooling2D(pool_size=(2, 2))(conv1)\n",
    "    conv2 = Conv2D(16, 3, activation = 'relu', padding = 'same')(pool1)\n",
    "    conv2= BatchNormalization()(conv2)\n",
    "    conv2 = Conv2D(16, 3, activation = 'relu', padding = 'same')(conv2)\n",
    "    conv2= BatchNormalization()(conv2)\n",
    "    pool2 = MaxPooling2D(pool_size=(2, 2))(conv2)\n",
    "    conv3 = Conv2D(32, 3, activation = 'relu', padding = 'same')(pool2)\n",
    "    conv3= BatchNormalization()(conv3)\n",
    "    conv3 = Conv2D(32, 3, activation = 'relu', padding = 'same')(conv3)\n",
    "    conv3= BatchNormalization()(conv3)\n",
    "    pool3 = MaxPooling2D(pool_size=(2, 2))(conv3)\n",
    "    conv4 = Conv2D(64, 3, activation = 'relu', padding = 'same')(pool3)\n",
    "    conv4= BatchNormalization()(conv4)\n",
    "    conv4 = Conv2D(64, 3, activation = 'relu', padding = 'same')(conv4)\n",
    "    conv4= BatchNormalization()(conv4)\n",
    "    drop4 = Dropout(0.01)(conv4)\n",
    "    pool4 = MaxPooling2D(pool_size=(2, 2))(drop4)\n",
    "\n",
    "    conv5 = Conv2D(128, 3, activation = 'relu', padding = 'same')(pool4)\n",
    "    conv5= BatchNormalization()(conv5)\n",
    "    conv5 = Conv2D(128, 3, activation = 'relu', padding = 'same')(conv5)\n",
    "    conv5= BatchNormalization()(conv5)\n",
    "    drop5 = Dropout(0.01)(conv5)\n",
    "    up6 = Conv2D(64, 2, activation = 'relu', padding = 'same')(UpSampling2D(size = (2,2))(drop5))\n",
    "    up6= BatchNormalization()(up6)\n",
    "    merge6 = concatenate([drop4,up6],axis=-1)\n",
    "    conv6 = Conv2D(64, 3, activation = 'relu', padding = 'same')(merge6)\n",
    "    conv6= BatchNormalization()(conv6)\n",
    "    conv6 = Conv2D(64, 3, activation = 'relu', padding = 'same')(conv6)\n",
    "    conv6= BatchNormalization()(conv6)\n",
    "\n",
    "    up7 = Conv2D(32, 2, activation = 'relu', padding = 'same')(UpSampling2D(size = (2,2))(conv6))\n",
    "    up7= BatchNormalization()(up7)\n",
    "    merge7 = concatenate([conv3,up7],axis=-1)\n",
    "    conv7 = Conv2D(32, 3, activation = 'relu', padding = 'same')(merge7)\n",
    "    conv7= BatchNormalization()(conv7)\n",
    "    conv7 = Conv2D(32, 3, activation = 'relu', padding = 'same')(conv7)\n",
    "    conv7= BatchNormalization()(conv7)\n",
    "\n",
    "    up8 = Conv2D(16, 2, activation = 'relu', padding = 'same')(UpSampling2D(size = (2,2))(conv7))\n",
    "    up8= BatchNormalization()(up8)\n",
    "    merge8 = concatenate([conv2,up8],axis=-1)\n",
    "    conv8 = Conv2D(16, 3, activation = 'relu', padding = 'same')(merge8)\n",
    "    conv8= BatchNormalization()(conv8)\n",
    "    conv8 = Conv2D(16, 3, activation = 'relu', padding = 'same')(conv8)\n",
    "    conv8= BatchNormalization()(conv8)\n",
    "\n",
    "    up9 = Conv2D(8, 2, activation = 'relu', padding = 'same')(UpSampling2D(size = (2,2))(conv8))\n",
    "    up9= BatchNormalization()(up9)\n",
    "    merge9 = concatenate([conv1,up9],axis=-1)\n",
    "    conv9 = Conv2D(8, 3, activation = 'relu', padding = 'same')(merge9)\n",
    "    conv9= BatchNormalization()(conv9)\n",
    "    conv9 = Conv2D(8, 3, activation = 'relu', padding = 'same')(conv9)\n",
    "    conv9= BatchNormalization()(conv9)\n",
    "#     conv10 = Conv3D(1, 1, activation = 'sigmoid')(conv9)\n",
    "    conv10 = Conv2D(num_classes, 1, activation = 'softmax')(conv9)\n",
    "    model = Model(inputs=inputs, outputs = conv10)\n",
    "    #model.compile(optimizer = Adam(lr = 1e-4), loss = 'binary_crossentropy', metrics = ['accuracy'])\n",
    "    return model"
   ]
  },
  {
   "cell_type": "code",
   "execution_count": 9,
   "id": "9030bc58",
   "metadata": {},
   "outputs": [
    {
     "name": "stderr",
     "output_type": "stream",
     "text": [
      "2022-04-25 20:34:05.959665: I tensorflow/stream_executor/platform/default/dso_loader.cc:48] Successfully opened dynamic library libcuda.so.1\n",
      "2022-04-25 20:34:05.980349: I tensorflow/stream_executor/cuda/cuda_gpu_executor.cc:982] successful NUMA node read from SysFS had negative value (-1), but there must be at least one NUMA node, so returning NUMA node zero\n",
      "2022-04-25 20:34:05.981756: I tensorflow/core/common_runtime/gpu/gpu_device.cc:1716] Found device 0 with properties: \n",
      "pciBusID: 0000:00:05.0 name: Tesla V100-SXM2-32GB computeCapability: 7.0\n",
      "coreClock: 1.53GHz coreCount: 80 deviceMemorySize: 31.75GiB deviceMemoryBandwidth: 836.37GiB/s\n",
      "2022-04-25 20:34:05.981792: I tensorflow/stream_executor/platform/default/dso_loader.cc:48] Successfully opened dynamic library libcudart.so.10.1\n",
      "2022-04-25 20:34:05.984866: I tensorflow/stream_executor/platform/default/dso_loader.cc:48] Successfully opened dynamic library libcublas.so.10\n",
      "2022-04-25 20:34:05.987997: I tensorflow/stream_executor/platform/default/dso_loader.cc:48] Successfully opened dynamic library libcufft.so.10\n",
      "2022-04-25 20:34:05.988454: I tensorflow/stream_executor/platform/default/dso_loader.cc:48] Successfully opened dynamic library libcurand.so.10\n",
      "2022-04-25 20:34:05.992015: I tensorflow/stream_executor/platform/default/dso_loader.cc:48] Successfully opened dynamic library libcusolver.so.10\n",
      "2022-04-25 20:34:05.993710: I tensorflow/stream_executor/platform/default/dso_loader.cc:48] Successfully opened dynamic library libcusparse.so.10\n",
      "2022-04-25 20:34:06.000726: I tensorflow/stream_executor/platform/default/dso_loader.cc:48] Successfully opened dynamic library libcudnn.so.7\n",
      "2022-04-25 20:34:06.000928: I tensorflow/stream_executor/cuda/cuda_gpu_executor.cc:982] successful NUMA node read from SysFS had negative value (-1), but there must be at least one NUMA node, so returning NUMA node zero\n",
      "2022-04-25 20:34:06.002369: I tensorflow/stream_executor/cuda/cuda_gpu_executor.cc:982] successful NUMA node read from SysFS had negative value (-1), but there must be at least one NUMA node, so returning NUMA node zero\n",
      "2022-04-25 20:34:06.003679: I tensorflow/core/common_runtime/gpu/gpu_device.cc:1858] Adding visible gpu devices: 0\n",
      "2022-04-25 20:34:06.004301: I tensorflow/core/platform/cpu_feature_guard.cc:142] This TensorFlow binary is optimized with oneAPI Deep Neural Network Library (oneDNN)to use the following CPU instructions in performance-critical operations:  AVX2 FMA\n",
      "To enable them in other operations, rebuild TensorFlow with the appropriate compiler flags.\n",
      "2022-04-25 20:34:06.016455: I tensorflow/core/platform/profile_utils/cpu_utils.cc:104] CPU Frequency: 2200100000 Hz\n",
      "2022-04-25 20:34:06.018963: I tensorflow/compiler/xla/service/service.cc:168] XLA service 0x564ae8651ce0 initialized for platform Host (this does not guarantee that XLA will be used). Devices:\n",
      "2022-04-25 20:34:06.018996: I tensorflow/compiler/xla/service/service.cc:176]   StreamExecutor device (0): Host, Default Version\n",
      "2022-04-25 20:34:06.171579: I tensorflow/stream_executor/cuda/cuda_gpu_executor.cc:982] successful NUMA node read from SysFS had negative value (-1), but there must be at least one NUMA node, so returning NUMA node zero\n",
      "2022-04-25 20:34:06.173095: I tensorflow/compiler/xla/service/service.cc:168] XLA service 0x564ae7e422a0 initialized for platform CUDA (this does not guarantee that XLA will be used). Devices:\n",
      "2022-04-25 20:34:06.173118: I tensorflow/compiler/xla/service/service.cc:176]   StreamExecutor device (0): Tesla V100-SXM2-32GB, Compute Capability 7.0\n",
      "2022-04-25 20:34:06.173495: I tensorflow/stream_executor/cuda/cuda_gpu_executor.cc:982] successful NUMA node read from SysFS had negative value (-1), but there must be at least one NUMA node, so returning NUMA node zero\n",
      "2022-04-25 20:34:06.174823: I tensorflow/core/common_runtime/gpu/gpu_device.cc:1716] Found device 0 with properties: \n",
      "pciBusID: 0000:00:05.0 name: Tesla V100-SXM2-32GB computeCapability: 7.0\n",
      "coreClock: 1.53GHz coreCount: 80 deviceMemorySize: 31.75GiB deviceMemoryBandwidth: 836.37GiB/s\n",
      "2022-04-25 20:34:06.174866: I tensorflow/stream_executor/platform/default/dso_loader.cc:48] Successfully opened dynamic library libcudart.so.10.1\n",
      "2022-04-25 20:34:06.174936: I tensorflow/stream_executor/platform/default/dso_loader.cc:48] Successfully opened dynamic library libcublas.so.10\n",
      "2022-04-25 20:34:06.174962: I tensorflow/stream_executor/platform/default/dso_loader.cc:48] Successfully opened dynamic library libcufft.so.10\n",
      "2022-04-25 20:34:06.174984: I tensorflow/stream_executor/platform/default/dso_loader.cc:48] Successfully opened dynamic library libcurand.so.10\n",
      "2022-04-25 20:34:06.175005: I tensorflow/stream_executor/platform/default/dso_loader.cc:48] Successfully opened dynamic library libcusolver.so.10\n",
      "2022-04-25 20:34:06.175027: I tensorflow/stream_executor/platform/default/dso_loader.cc:48] Successfully opened dynamic library libcusparse.so.10\n",
      "2022-04-25 20:34:06.175048: I tensorflow/stream_executor/platform/default/dso_loader.cc:48] Successfully opened dynamic library libcudnn.so.7\n",
      "2022-04-25 20:34:06.175169: I tensorflow/stream_executor/cuda/cuda_gpu_executor.cc:982] successful NUMA node read from SysFS had negative value (-1), but there must be at least one NUMA node, so returning NUMA node zero\n",
      "2022-04-25 20:34:06.176591: I tensorflow/stream_executor/cuda/cuda_gpu_executor.cc:982] successful NUMA node read from SysFS had negative value (-1), but there must be at least one NUMA node, so returning NUMA node zero\n",
      "2022-04-25 20:34:06.177915: I tensorflow/core/common_runtime/gpu/gpu_device.cc:1858] Adding visible gpu devices: 0\n",
      "2022-04-25 20:34:06.177981: I tensorflow/stream_executor/platform/default/dso_loader.cc:48] Successfully opened dynamic library libcudart.so.10.1\n",
      "2022-04-25 20:34:06.864141: I tensorflow/core/common_runtime/gpu/gpu_device.cc:1257] Device interconnect StreamExecutor with strength 1 edge matrix:\n",
      "2022-04-25 20:34:06.864191: I tensorflow/core/common_runtime/gpu/gpu_device.cc:1263]      0 \n",
      "2022-04-25 20:34:06.864203: I tensorflow/core/common_runtime/gpu/gpu_device.cc:1276] 0:   N \n",
      "2022-04-25 20:34:06.864585: I tensorflow/stream_executor/cuda/cuda_gpu_executor.cc:982] successful NUMA node read from SysFS had negative value (-1), but there must be at least one NUMA node, so returning NUMA node zero\n",
      "2022-04-25 20:34:06.866304: I tensorflow/stream_executor/cuda/cuda_gpu_executor.cc:982] successful NUMA node read from SysFS had negative value (-1), but there must be at least one NUMA node, so returning NUMA node zero\n",
      "2022-04-25 20:34:06.867698: I tensorflow/core/common_runtime/gpu/gpu_device.cc:1402] Created TensorFlow device (/job:localhost/replica:0/task:0/device:GPU:0 with 30133 MB memory) -> physical GPU (device: 0, name: Tesla V100-SXM2-32GB, pci bus id: 0000:00:05.0, compute capability: 7.0)\n"
     ]
    },
    {
     "name": "stdout",
     "output_type": "stream",
     "text": [
      "Model: \"functional_1\"\n",
      "__________________________________________________________________________________________________\n",
      "Layer (type)                    Output Shape         Param #     Connected to                     \n",
      "==================================================================================================\n",
      "input_1 (InputLayer)            [(None, 128, 128, 3) 0                                            \n",
      "__________________________________________________________________________________________________\n",
      "conv2d (Conv2D)                 (None, 128, 128, 8)  224         input_1[0][0]                    \n",
      "__________________________________________________________________________________________________\n",
      "batch_normalization (BatchNorma (None, 128, 128, 8)  32          conv2d[0][0]                     \n",
      "__________________________________________________________________________________________________\n",
      "conv2d_1 (Conv2D)               (None, 128, 128, 8)  584         batch_normalization[0][0]        \n",
      "__________________________________________________________________________________________________\n",
      "batch_normalization_1 (BatchNor (None, 128, 128, 8)  32          conv2d_1[0][0]                   \n",
      "__________________________________________________________________________________________________\n",
      "max_pooling2d (MaxPooling2D)    (None, 64, 64, 8)    0           batch_normalization_1[0][0]      \n",
      "__________________________________________________________________________________________________\n",
      "conv2d_2 (Conv2D)               (None, 64, 64, 16)   1168        max_pooling2d[0][0]              \n",
      "__________________________________________________________________________________________________\n",
      "batch_normalization_2 (BatchNor (None, 64, 64, 16)   64          conv2d_2[0][0]                   \n",
      "__________________________________________________________________________________________________\n",
      "conv2d_3 (Conv2D)               (None, 64, 64, 16)   2320        batch_normalization_2[0][0]      \n",
      "__________________________________________________________________________________________________\n",
      "batch_normalization_3 (BatchNor (None, 64, 64, 16)   64          conv2d_3[0][0]                   \n",
      "__________________________________________________________________________________________________\n",
      "max_pooling2d_1 (MaxPooling2D)  (None, 32, 32, 16)   0           batch_normalization_3[0][0]      \n",
      "__________________________________________________________________________________________________\n",
      "conv2d_4 (Conv2D)               (None, 32, 32, 32)   4640        max_pooling2d_1[0][0]            \n",
      "__________________________________________________________________________________________________\n",
      "batch_normalization_4 (BatchNor (None, 32, 32, 32)   128         conv2d_4[0][0]                   \n",
      "__________________________________________________________________________________________________\n",
      "conv2d_5 (Conv2D)               (None, 32, 32, 32)   9248        batch_normalization_4[0][0]      \n",
      "__________________________________________________________________________________________________\n",
      "batch_normalization_5 (BatchNor (None, 32, 32, 32)   128         conv2d_5[0][0]                   \n",
      "__________________________________________________________________________________________________\n",
      "max_pooling2d_2 (MaxPooling2D)  (None, 16, 16, 32)   0           batch_normalization_5[0][0]      \n",
      "__________________________________________________________________________________________________\n",
      "conv2d_6 (Conv2D)               (None, 16, 16, 64)   18496       max_pooling2d_2[0][0]            \n",
      "__________________________________________________________________________________________________\n",
      "batch_normalization_6 (BatchNor (None, 16, 16, 64)   256         conv2d_6[0][0]                   \n",
      "__________________________________________________________________________________________________\n",
      "conv2d_7 (Conv2D)               (None, 16, 16, 64)   36928       batch_normalization_6[0][0]      \n",
      "__________________________________________________________________________________________________\n",
      "batch_normalization_7 (BatchNor (None, 16, 16, 64)   256         conv2d_7[0][0]                   \n",
      "__________________________________________________________________________________________________\n",
      "dropout (Dropout)               (None, 16, 16, 64)   0           batch_normalization_7[0][0]      \n",
      "__________________________________________________________________________________________________\n",
      "max_pooling2d_3 (MaxPooling2D)  (None, 8, 8, 64)     0           dropout[0][0]                    \n",
      "__________________________________________________________________________________________________\n",
      "conv2d_8 (Conv2D)               (None, 8, 8, 128)    73856       max_pooling2d_3[0][0]            \n",
      "__________________________________________________________________________________________________\n",
      "batch_normalization_8 (BatchNor (None, 8, 8, 128)    512         conv2d_8[0][0]                   \n",
      "__________________________________________________________________________________________________\n",
      "conv2d_9 (Conv2D)               (None, 8, 8, 128)    147584      batch_normalization_8[0][0]      \n",
      "__________________________________________________________________________________________________\n",
      "batch_normalization_9 (BatchNor (None, 8, 8, 128)    512         conv2d_9[0][0]                   \n",
      "__________________________________________________________________________________________________\n",
      "dropout_1 (Dropout)             (None, 8, 8, 128)    0           batch_normalization_9[0][0]      \n",
      "__________________________________________________________________________________________________\n",
      "up_sampling2d (UpSampling2D)    (None, 16, 16, 128)  0           dropout_1[0][0]                  \n",
      "__________________________________________________________________________________________________\n",
      "conv2d_10 (Conv2D)              (None, 16, 16, 64)   32832       up_sampling2d[0][0]              \n",
      "__________________________________________________________________________________________________\n",
      "batch_normalization_10 (BatchNo (None, 16, 16, 64)   256         conv2d_10[0][0]                  \n",
      "__________________________________________________________________________________________________\n",
      "concatenate (Concatenate)       (None, 16, 16, 128)  0           dropout[0][0]                    \n",
      "                                                                 batch_normalization_10[0][0]     \n",
      "__________________________________________________________________________________________________\n",
      "conv2d_11 (Conv2D)              (None, 16, 16, 64)   73792       concatenate[0][0]                \n",
      "__________________________________________________________________________________________________\n",
      "batch_normalization_11 (BatchNo (None, 16, 16, 64)   256         conv2d_11[0][0]                  \n",
      "__________________________________________________________________________________________________\n",
      "conv2d_12 (Conv2D)              (None, 16, 16, 64)   36928       batch_normalization_11[0][0]     \n",
      "__________________________________________________________________________________________________\n",
      "batch_normalization_12 (BatchNo (None, 16, 16, 64)   256         conv2d_12[0][0]                  \n",
      "__________________________________________________________________________________________________\n",
      "up_sampling2d_1 (UpSampling2D)  (None, 32, 32, 64)   0           batch_normalization_12[0][0]     \n",
      "__________________________________________________________________________________________________\n",
      "conv2d_13 (Conv2D)              (None, 32, 32, 32)   8224        up_sampling2d_1[0][0]            \n",
      "__________________________________________________________________________________________________\n",
      "batch_normalization_13 (BatchNo (None, 32, 32, 32)   128         conv2d_13[0][0]                  \n",
      "__________________________________________________________________________________________________\n",
      "concatenate_1 (Concatenate)     (None, 32, 32, 64)   0           batch_normalization_5[0][0]      \n",
      "                                                                 batch_normalization_13[0][0]     \n",
      "__________________________________________________________________________________________________\n",
      "conv2d_14 (Conv2D)              (None, 32, 32, 32)   18464       concatenate_1[0][0]              \n",
      "__________________________________________________________________________________________________\n",
      "batch_normalization_14 (BatchNo (None, 32, 32, 32)   128         conv2d_14[0][0]                  \n",
      "__________________________________________________________________________________________________\n",
      "conv2d_15 (Conv2D)              (None, 32, 32, 32)   9248        batch_normalization_14[0][0]     \n",
      "__________________________________________________________________________________________________\n",
      "batch_normalization_15 (BatchNo (None, 32, 32, 32)   128         conv2d_15[0][0]                  \n",
      "__________________________________________________________________________________________________\n",
      "up_sampling2d_2 (UpSampling2D)  (None, 64, 64, 32)   0           batch_normalization_15[0][0]     \n",
      "__________________________________________________________________________________________________\n",
      "conv2d_16 (Conv2D)              (None, 64, 64, 16)   2064        up_sampling2d_2[0][0]            \n",
      "__________________________________________________________________________________________________\n",
      "batch_normalization_16 (BatchNo (None, 64, 64, 16)   64          conv2d_16[0][0]                  \n",
      "__________________________________________________________________________________________________\n",
      "concatenate_2 (Concatenate)     (None, 64, 64, 32)   0           batch_normalization_3[0][0]      \n",
      "                                                                 batch_normalization_16[0][0]     \n",
      "__________________________________________________________________________________________________\n",
      "conv2d_17 (Conv2D)              (None, 64, 64, 16)   4624        concatenate_2[0][0]              \n",
      "__________________________________________________________________________________________________\n",
      "batch_normalization_17 (BatchNo (None, 64, 64, 16)   64          conv2d_17[0][0]                  \n",
      "__________________________________________________________________________________________________\n",
      "conv2d_18 (Conv2D)              (None, 64, 64, 16)   2320        batch_normalization_17[0][0]     \n",
      "__________________________________________________________________________________________________\n",
      "batch_normalization_18 (BatchNo (None, 64, 64, 16)   64          conv2d_18[0][0]                  \n",
      "__________________________________________________________________________________________________\n",
      "up_sampling2d_3 (UpSampling2D)  (None, 128, 128, 16) 0           batch_normalization_18[0][0]     \n",
      "__________________________________________________________________________________________________\n",
      "conv2d_19 (Conv2D)              (None, 128, 128, 8)  520         up_sampling2d_3[0][0]            \n",
      "__________________________________________________________________________________________________\n",
      "batch_normalization_19 (BatchNo (None, 128, 128, 8)  32          conv2d_19[0][0]                  \n",
      "__________________________________________________________________________________________________\n",
      "concatenate_3 (Concatenate)     (None, 128, 128, 16) 0           batch_normalization_1[0][0]      \n",
      "                                                                 batch_normalization_19[0][0]     \n",
      "__________________________________________________________________________________________________\n",
      "conv2d_20 (Conv2D)              (None, 128, 128, 8)  1160        concatenate_3[0][0]              \n",
      "__________________________________________________________________________________________________\n",
      "batch_normalization_20 (BatchNo (None, 128, 128, 8)  32          conv2d_20[0][0]                  \n",
      "__________________________________________________________________________________________________\n",
      "conv2d_21 (Conv2D)              (None, 128, 128, 8)  584         batch_normalization_20[0][0]     \n",
      "__________________________________________________________________________________________________\n",
      "batch_normalization_21 (BatchNo (None, 128, 128, 8)  32          conv2d_21[0][0]                  \n",
      "__________________________________________________________________________________________________\n",
      "conv2d_22 (Conv2D)              (None, 128, 128, 33) 297         batch_normalization_21[0][0]     \n",
      "==================================================================================================\n",
      "Total params: 489,529\n",
      "Trainable params: 487,817\n",
      "Non-trainable params: 1,712\n",
      "__________________________________________________________________________________________________\n"
     ]
    }
   ],
   "source": [
    "inputs = tf.keras.Input(shape=(patch_size_x,patch_size_y, channels))\n",
    "# mirrored_strategy = tf.distribute.MirroredStrategy(devices=[\"/gpu:2\"]) \n",
    "\n",
    "# with mirrored_strategy.scope():\n",
    "Model_2D = Unet2D(inputs,num_classes=n_classes)\n",
    "Model_2D.compile(optimizer=optim, loss=dice_loss, metrics=[dice_coe])\n",
    "Model_2D.summary()"
   ]
  },
  {
   "cell_type": "code",
   "execution_count": 10,
   "id": "ac658295",
   "metadata": {},
   "outputs": [],
   "source": [
    "import os\n",
    "import numpy as np\n",
    "import cv2\n",
    "from tensorflow.keras.utils import Sequence\n",
    "from tensorflow.keras import backend as K\n",
    "from PIL import Image\n",
    "\n",
    "\n",
    "\n",
    "def parse_image(img_path, image_size):\n",
    "    image_rgb = cv2.resize(np.load(img_path), (128,128))\n",
    "#     print(img_path)\n",
    "#     train_img=np.expand_dims(image_rgb, axis=2)\n",
    "    train_img = image_rgb.copy()\n",
    "#     train_img = np.stack((image_rgb,)*3, axis=-1)\n",
    "    return train_img\n",
    "\n",
    "def parse_mask(mask_path, image_size):\n",
    "    mask = np.load(mask_path)\n",
    "    nm=np.zeros([128, 128, 33], dtype = int)\n",
    "    for i in range(33):\n",
    "        temp= mask[:,:,i].astype('float32')\n",
    "        temp= cv2.resize(temp, (128, 128))\n",
    "        nm[:,:,i]=temp\n",
    "    train_mask= nm.copy()\n",
    "#     np.shape(nm)\n",
    "#     mask = np.where(mask==0,mask,1)\n",
    "#     train_mask = np.expand_dims(mask, axis=2)\n",
    "    return train_mask\n",
    "\n",
    "\n",
    "class DataGen(Sequence):\n",
    "    def __init__(self, image_size, images_path, masks_path, batch_size=8):\n",
    "        self.image_size = image_size\n",
    "        self.images_path = images_path\n",
    "        self.masks_path = masks_path\n",
    "        self.batch_size = batch_size\n",
    "        self.on_epoch_end()\n",
    "\n",
    "    def __getitem__(self, index):\n",
    "        if(index+1)*self.batch_size > len(self.images_path):\n",
    "            self.batch_size = len(self.images_path) - index*self.batch_size\n",
    "        images_path = self.images_path[index*self.batch_size : (index+1)*self.batch_size]\n",
    "        masks_path = self.masks_path[index*self.batch_size : (index+1)*self.batch_size]\n",
    "\n",
    "        images_batch = []\n",
    "        masks_batch = []\n",
    "\n",
    "        for i in range(len(images_path)):\n",
    "            # Read image and mask\n",
    "            image = parse_image(images_path[i], self.image_size)\n",
    "            mask = parse_mask(masks_path[i], self.image_size)\n",
    "\n",
    "            images_batch.append(image)\n",
    "#             mask=np.where(mask>1,1,mask)\n",
    "            masks_batch.append(mask)\n",
    "\n",
    "        return np.array(images_batch), np.array(masks_batch)\n",
    "\n",
    "    def on_epoch_end(self):\n",
    "        pass\n",
    "\n",
    "    def __len__(self):\n",
    "        return int(np.ceil(len(self.images_path)/float(self.batch_size)))\n",
    "    "
   ]
  },
  {
   "cell_type": "code",
   "execution_count": 11,
   "id": "1637a4a0",
   "metadata": {},
   "outputs": [],
   "source": [
    "train_data_paths = sorted(glob.glob(\"/home/centos/rabeea/maski/images/*.npy\"))#[0:25]\n",
    "train_masks_paths = sorted(glob.glob(\"/home/centos/rabeea/maski/masks/*.npy\"))#[0:25]\n",
    "\n",
    "\n",
    "\n",
    "valid_data_paths = sorted(glob.glob(\"/home/centos/rabeea/maski/images/*.npy\"))[25:30]\n",
    "valid_masks_paths = sorted(glob.glob(\"/home/centos/rabeea/maski/masks/*.npy\"))[25:30]"
   ]
  },
  {
   "cell_type": "code",
   "execution_count": 12,
   "id": "1aa99274",
   "metadata": {},
   "outputs": [],
   "source": [
    "image_size = 128\n",
    "batch_size = 1\n",
    "\n",
    "epochs = 100\n",
    "\n",
    "train_steps = len(train_data_paths)//batch_size\n",
    "valid_steps = len(valid_data_paths)//batch_size\n",
    "\n",
    "## Generator\n",
    "train_gen = DataGen(image_size, train_data_paths,train_masks_paths, batch_size=batch_size)\n",
    "valid_gen = DataGen(image_size,valid_data_paths, valid_masks_paths, batch_size=batch_size)"
   ]
  },
  {
   "cell_type": "code",
   "execution_count": 13,
   "id": "65cdc823",
   "metadata": {},
   "outputs": [
    {
     "data": {
      "text/plain": [
       "(1, 128, 128, 3)"
      ]
     },
     "execution_count": 13,
     "metadata": {},
     "output_type": "execute_result"
    }
   ],
   "source": [
    "train_gen.__getitem__(20)[0].shape"
   ]
  },
  {
   "cell_type": "code",
   "execution_count": 14,
   "id": "97692f46",
   "metadata": {},
   "outputs": [
    {
     "data": {
      "text/plain": [
       "(1, 128, 128, 33)"
      ]
     },
     "execution_count": 14,
     "metadata": {},
     "output_type": "execute_result"
    }
   ],
   "source": [
    "train_gen.__getitem__(20)[1].shape"
   ]
  },
  {
   "cell_type": "code",
   "execution_count": 15,
   "id": "0c9a5666",
   "metadata": {},
   "outputs": [
    {
     "name": "stdout",
     "output_type": "stream",
     "text": [
      "Epoch 1/500\n"
     ]
    },
    {
     "name": "stderr",
     "output_type": "stream",
     "text": [
      "2022-04-25 20:34:20.443177: I tensorflow/stream_executor/platform/default/dso_loader.cc:48] Successfully opened dynamic library libcudnn.so.7\n",
      "2022-04-25 20:34:22.896010: I tensorflow/stream_executor/platform/default/dso_loader.cc:48] Successfully opened dynamic library libcublas.so.10\n"
     ]
    },
    {
     "name": "stdout",
     "output_type": "stream",
     "text": [
      "30/30 [==============================] - 60s 2s/step - loss: 0.9494 - dice_coe: 0.0506 - val_loss: 0.9475 - val_dice_coe: 0.0525\n",
      "Epoch 2/500\n",
      "30/30 [==============================] - 59s 2s/step - loss: 0.9453 - dice_coe: 0.0547 - val_loss: 0.9462 - val_dice_coe: 0.0538\n",
      "Epoch 3/500\n",
      "30/30 [==============================] - 59s 2s/step - loss: 0.9403 - dice_coe: 0.0597 - val_loss: 0.9455 - val_dice_coe: 0.0545\n",
      "Epoch 4/500\n",
      "30/30 [==============================] - 60s 2s/step - loss: 0.9331 - dice_coe: 0.0669 - val_loss: 0.9450 - val_dice_coe: 0.0550\n",
      "Epoch 5/500\n",
      "30/30 [==============================] - 59s 2s/step - loss: 0.9233 - dice_coe: 0.0767 - val_loss: 0.9444 - val_dice_coe: 0.0556\n",
      "Epoch 6/500\n",
      "30/30 [==============================] - 59s 2s/step - loss: 0.9104 - dice_coe: 0.0896 - val_loss: 0.9438 - val_dice_coe: 0.0562\n",
      "Epoch 7/500\n",
      "30/30 [==============================] - 60s 2s/step - loss: 0.8964 - dice_coe: 0.1036 - val_loss: 0.9434 - val_dice_coe: 0.0566\n",
      "Epoch 8/500\n",
      "30/30 [==============================] - 60s 2s/step - loss: 0.8850 - dice_coe: 0.1150 - val_loss: 0.9413 - val_dice_coe: 0.0587\n",
      "Epoch 9/500\n",
      "30/30 [==============================] - 59s 2s/step - loss: 0.8732 - dice_coe: 0.1268 - val_loss: 0.9398 - val_dice_coe: 0.0602\n",
      "Epoch 10/500\n",
      "30/30 [==============================] - 59s 2s/step - loss: 0.8606 - dice_coe: 0.1394 - val_loss: 0.9353 - val_dice_coe: 0.0647\n",
      "Epoch 11/500\n",
      "30/30 [==============================] - 59s 2s/step - loss: 0.8495 - dice_coe: 0.1505 - val_loss: 0.9223 - val_dice_coe: 0.0777\n",
      "Epoch 12/500\n",
      "30/30 [==============================] - 59s 2s/step - loss: 0.8351 - dice_coe: 0.1649 - val_loss: 0.9111 - val_dice_coe: 0.0889\n",
      "Epoch 13/500\n",
      "30/30 [==============================] - 59s 2s/step - loss: 0.8195 - dice_coe: 0.1805 - val_loss: 0.8995 - val_dice_coe: 0.1005\n",
      "Epoch 14/500\n",
      "30/30 [==============================] - 59s 2s/step - loss: 0.8061 - dice_coe: 0.1939 - val_loss: 0.8777 - val_dice_coe: 0.1223\n",
      "Epoch 15/500\n",
      "30/30 [==============================] - 59s 2s/step - loss: 0.7975 - dice_coe: 0.2025 - val_loss: 0.8668 - val_dice_coe: 0.1332\n",
      "Epoch 16/500\n",
      "30/30 [==============================] - 59s 2s/step - loss: 0.7907 - dice_coe: 0.2093 - val_loss: 0.8659 - val_dice_coe: 0.1341\n",
      "Epoch 17/500\n",
      "30/30 [==============================] - 60s 2s/step - loss: 0.7850 - dice_coe: 0.2150 - val_loss: 0.8582 - val_dice_coe: 0.1418\n",
      "Epoch 18/500\n",
      "30/30 [==============================] - 59s 2s/step - loss: 0.7768 - dice_coe: 0.2232 - val_loss: 0.8408 - val_dice_coe: 0.1592\n",
      "Epoch 19/500\n",
      "30/30 [==============================] - 59s 2s/step - loss: 0.7696 - dice_coe: 0.2304 - val_loss: 0.8462 - val_dice_coe: 0.1538\n",
      "Epoch 20/500\n",
      "30/30 [==============================] - 59s 2s/step - loss: 0.7630 - dice_coe: 0.2370 - val_loss: 0.8457 - val_dice_coe: 0.1543\n",
      "Epoch 21/500\n",
      "30/30 [==============================] - 59s 2s/step - loss: 0.7568 - dice_coe: 0.2432 - val_loss: 0.8365 - val_dice_coe: 0.1635\n",
      "Epoch 22/500\n",
      "30/30 [==============================] - 59s 2s/step - loss: 0.7504 - dice_coe: 0.2496 - val_loss: 0.8285 - val_dice_coe: 0.1715\n",
      "Epoch 23/500\n",
      "30/30 [==============================] - 59s 2s/step - loss: 0.7433 - dice_coe: 0.2567 - val_loss: 0.8270 - val_dice_coe: 0.1730\n",
      "Epoch 24/500\n",
      "30/30 [==============================] - 59s 2s/step - loss: 0.7364 - dice_coe: 0.2636 - val_loss: 0.8236 - val_dice_coe: 0.1764\n",
      "Epoch 25/500\n",
      "30/30 [==============================] - 59s 2s/step - loss: 0.7298 - dice_coe: 0.2702 - val_loss: 0.8136 - val_dice_coe: 0.1864\n",
      "Epoch 26/500\n",
      "30/30 [==============================] - 59s 2s/step - loss: 0.7227 - dice_coe: 0.2773 - val_loss: 0.8116 - val_dice_coe: 0.1884\n",
      "Epoch 27/500\n",
      "30/30 [==============================] - 59s 2s/step - loss: 0.7131 - dice_coe: 0.2869 - val_loss: 0.7972 - val_dice_coe: 0.2028\n",
      "Epoch 28/500\n",
      "30/30 [==============================] - 60s 2s/step - loss: 0.7039 - dice_coe: 0.2961 - val_loss: 0.8044 - val_dice_coe: 0.1956\n",
      "Epoch 29/500\n",
      "30/30 [==============================] - 60s 2s/step - loss: 0.6971 - dice_coe: 0.3029 - val_loss: 0.8057 - val_dice_coe: 0.1943\n",
      "Epoch 30/500\n",
      "30/30 [==============================] - 60s 2s/step - loss: 0.6924 - dice_coe: 0.3076 - val_loss: 0.7859 - val_dice_coe: 0.2141\n",
      "Epoch 31/500\n",
      "30/30 [==============================] - 59s 2s/step - loss: 0.6871 - dice_coe: 0.3129 - val_loss: 0.7915 - val_dice_coe: 0.2085\n",
      "Epoch 32/500\n",
      "30/30 [==============================] - 60s 2s/step - loss: 0.6811 - dice_coe: 0.3189 - val_loss: 0.7818 - val_dice_coe: 0.2182\n",
      "Epoch 33/500\n",
      "30/30 [==============================] - 59s 2s/step - loss: 0.6752 - dice_coe: 0.3248 - val_loss: 0.7663 - val_dice_coe: 0.2337\n",
      "Epoch 34/500\n",
      "30/30 [==============================] - 59s 2s/step - loss: 0.6705 - dice_coe: 0.3295 - val_loss: 0.7777 - val_dice_coe: 0.2223\n",
      "Epoch 35/500\n",
      "30/30 [==============================] - 59s 2s/step - loss: 0.6656 - dice_coe: 0.3344 - val_loss: 0.7674 - val_dice_coe: 0.2326\n",
      "Epoch 36/500\n",
      "30/30 [==============================] - 59s 2s/step - loss: 0.6601 - dice_coe: 0.3399 - val_loss: 0.7549 - val_dice_coe: 0.2451\n",
      "Epoch 37/500\n",
      "30/30 [==============================] - 59s 2s/step - loss: 0.6535 - dice_coe: 0.3465 - val_loss: 0.7573 - val_dice_coe: 0.2427\n",
      "Epoch 38/500\n",
      "30/30 [==============================] - 60s 2s/step - loss: 0.6465 - dice_coe: 0.3535 - val_loss: 0.7514 - val_dice_coe: 0.2486\n",
      "Epoch 39/500\n",
      "30/30 [==============================] - 59s 2s/step - loss: 0.6418 - dice_coe: 0.3582 - val_loss: 0.7490 - val_dice_coe: 0.2510\n",
      "Epoch 40/500\n",
      "30/30 [==============================] - 60s 2s/step - loss: 0.6359 - dice_coe: 0.3641 - val_loss: 0.7651 - val_dice_coe: 0.2349\n",
      "Epoch 41/500\n",
      "30/30 [==============================] - 59s 2s/step - loss: 0.6327 - dice_coe: 0.3673 - val_loss: 0.7628 - val_dice_coe: 0.2372\n",
      "Epoch 42/500\n",
      "30/30 [==============================] - 59s 2s/step - loss: 0.6288 - dice_coe: 0.3712 - val_loss: 0.7646 - val_dice_coe: 0.2354\n",
      "Epoch 43/500\n",
      "30/30 [==============================] - 59s 2s/step - loss: 0.6257 - dice_coe: 0.3743 - val_loss: 0.7418 - val_dice_coe: 0.2582\n",
      "Epoch 44/500\n",
      "30/30 [==============================] - 59s 2s/step - loss: 0.6198 - dice_coe: 0.3802 - val_loss: 0.7476 - val_dice_coe: 0.2524\n",
      "Epoch 45/500\n",
      "30/30 [==============================] - 59s 2s/step - loss: 0.6143 - dice_coe: 0.3857 - val_loss: 0.7552 - val_dice_coe: 0.2448\n",
      "Epoch 46/500\n",
      "30/30 [==============================] - 60s 2s/step - loss: 0.6097 - dice_coe: 0.3903 - val_loss: 0.7421 - val_dice_coe: 0.2579\n",
      "Epoch 47/500\n",
      "30/30 [==============================] - 59s 2s/step - loss: 0.6052 - dice_coe: 0.3948 - val_loss: 0.7361 - val_dice_coe: 0.2639\n",
      "Epoch 48/500\n",
      "30/30 [==============================] - 60s 2s/step - loss: 0.6003 - dice_coe: 0.3997 - val_loss: 0.7265 - val_dice_coe: 0.2735\n",
      "Epoch 49/500\n",
      "30/30 [==============================] - 59s 2s/step - loss: 0.5964 - dice_coe: 0.4036 - val_loss: 0.7304 - val_dice_coe: 0.2696\n",
      "Epoch 50/500\n",
      "30/30 [==============================] - 60s 2s/step - loss: 0.5940 - dice_coe: 0.4060 - val_loss: 0.7335 - val_dice_coe: 0.2665\n",
      "Epoch 51/500\n",
      "30/30 [==============================] - 59s 2s/step - loss: 0.5904 - dice_coe: 0.4096 - val_loss: 0.7161 - val_dice_coe: 0.2839\n",
      "Epoch 52/500\n",
      "30/30 [==============================] - 59s 2s/step - loss: 0.5861 - dice_coe: 0.4139 - val_loss: 0.7365 - val_dice_coe: 0.2635\n",
      "Epoch 53/500\n",
      "30/30 [==============================] - 59s 2s/step - loss: 0.5824 - dice_coe: 0.4176 - val_loss: 0.7171 - val_dice_coe: 0.2829\n",
      "Epoch 54/500\n",
      "30/30 [==============================] - 59s 2s/step - loss: 0.5784 - dice_coe: 0.4216 - val_loss: 0.7343 - val_dice_coe: 0.2657\n",
      "Epoch 55/500\n",
      "30/30 [==============================] - 59s 2s/step - loss: 0.5758 - dice_coe: 0.4242 - val_loss: 0.7207 - val_dice_coe: 0.2793\n",
      "Epoch 56/500\n",
      "30/30 [==============================] - 59s 2s/step - loss: 0.5727 - dice_coe: 0.4273 - val_loss: 0.7229 - val_dice_coe: 0.2771\n",
      "Epoch 57/500\n",
      "30/30 [==============================] - 59s 2s/step - loss: 0.5709 - dice_coe: 0.4291 - val_loss: 0.7237 - val_dice_coe: 0.2763\n",
      "Epoch 58/500\n",
      "30/30 [==============================] - 59s 2s/step - loss: 0.5678 - dice_coe: 0.4322 - val_loss: 0.7232 - val_dice_coe: 0.2768\n",
      "Epoch 59/500\n",
      "30/30 [==============================] - 60s 2s/step - loss: 0.5651 - dice_coe: 0.4349 - val_loss: 0.7464 - val_dice_coe: 0.2536\n",
      "Epoch 60/500\n",
      "30/30 [==============================] - 59s 2s/step - loss: 0.5616 - dice_coe: 0.4384 - val_loss: 0.7233 - val_dice_coe: 0.2767\n",
      "Epoch 61/500\n",
      "30/30 [==============================] - 59s 2s/step - loss: 0.5589 - dice_coe: 0.4411 - val_loss: 0.7124 - val_dice_coe: 0.2876\n",
      "Epoch 62/500\n",
      "30/30 [==============================] - 59s 2s/step - loss: 0.5568 - dice_coe: 0.4432 - val_loss: 0.7125 - val_dice_coe: 0.2875\n",
      "Epoch 63/500\n",
      "30/30 [==============================] - 60s 2s/step - loss: 0.5537 - dice_coe: 0.4463 - val_loss: 0.7144 - val_dice_coe: 0.2856\n",
      "Epoch 64/500\n",
      "30/30 [==============================] - 59s 2s/step - loss: 0.5527 - dice_coe: 0.4473 - val_loss: 0.7073 - val_dice_coe: 0.2927\n",
      "Epoch 65/500\n",
      "30/30 [==============================] - 59s 2s/step - loss: 0.5503 - dice_coe: 0.4497 - val_loss: 0.7236 - val_dice_coe: 0.2764\n",
      "Epoch 66/500\n",
      "30/30 [==============================] - 59s 2s/step - loss: 0.5474 - dice_coe: 0.4526 - val_loss: 0.6997 - val_dice_coe: 0.3003\n",
      "Epoch 67/500\n",
      "30/30 [==============================] - 59s 2s/step - loss: 0.5444 - dice_coe: 0.4556 - val_loss: 0.7032 - val_dice_coe: 0.2968\n",
      "Epoch 68/500\n",
      "30/30 [==============================] - 59s 2s/step - loss: 0.5397 - dice_coe: 0.4603 - val_loss: 0.7265 - val_dice_coe: 0.2735\n",
      "Epoch 69/500\n",
      "30/30 [==============================] - 59s 2s/step - loss: 0.5378 - dice_coe: 0.4622 - val_loss: 0.7068 - val_dice_coe: 0.2932\n",
      "Epoch 70/500\n",
      "30/30 [==============================] - 59s 2s/step - loss: 0.5348 - dice_coe: 0.4652 - val_loss: 0.6959 - val_dice_coe: 0.3041\n",
      "Epoch 71/500\n",
      "30/30 [==============================] - 59s 2s/step - loss: 0.5338 - dice_coe: 0.4662 - val_loss: 0.6814 - val_dice_coe: 0.3186\n",
      "Epoch 72/500\n",
      "30/30 [==============================] - 60s 2s/step - loss: 0.5303 - dice_coe: 0.4697 - val_loss: 0.7045 - val_dice_coe: 0.2955\n",
      "Epoch 73/500\n",
      "30/30 [==============================] - 60s 2s/step - loss: 0.5281 - dice_coe: 0.4719 - val_loss: 0.6794 - val_dice_coe: 0.3206\n",
      "Epoch 74/500\n",
      "30/30 [==============================] - 59s 2s/step - loss: 0.5269 - dice_coe: 0.4731 - val_loss: 0.6835 - val_dice_coe: 0.3165\n",
      "Epoch 75/500\n",
      "30/30 [==============================] - 59s 2s/step - loss: 0.5227 - dice_coe: 0.4773 - val_loss: 0.7067 - val_dice_coe: 0.2933\n",
      "Epoch 76/500\n",
      "30/30 [==============================] - 59s 2s/step - loss: 0.5204 - dice_coe: 0.4796 - val_loss: 0.6830 - val_dice_coe: 0.3170\n",
      "Epoch 77/500\n",
      "30/30 [==============================] - 59s 2s/step - loss: 0.5184 - dice_coe: 0.4816 - val_loss: 0.6937 - val_dice_coe: 0.3063\n",
      "Epoch 78/500\n",
      "30/30 [==============================] - 59s 2s/step - loss: 0.5168 - dice_coe: 0.4832 - val_loss: 0.6928 - val_dice_coe: 0.3072\n",
      "Epoch 79/500\n",
      "30/30 [==============================] - 59s 2s/step - loss: 0.5139 - dice_coe: 0.4861 - val_loss: 0.6874 - val_dice_coe: 0.3126\n",
      "Epoch 80/500\n",
      "30/30 [==============================] - 59s 2s/step - loss: 0.5117 - dice_coe: 0.4883 - val_loss: 0.6851 - val_dice_coe: 0.3149\n",
      "Epoch 81/500\n",
      "30/30 [==============================] - 59s 2s/step - loss: 0.5118 - dice_coe: 0.4882 - val_loss: 0.6969 - val_dice_coe: 0.3031\n",
      "Epoch 82/500\n",
      "30/30 [==============================] - 59s 2s/step - loss: 0.5088 - dice_coe: 0.4912 - val_loss: 0.6896 - val_dice_coe: 0.3104\n",
      "Epoch 83/500\n",
      "30/30 [==============================] - 59s 2s/step - loss: 0.5049 - dice_coe: 0.4951 - val_loss: 0.6863 - val_dice_coe: 0.3137\n",
      "Epoch 84/500\n",
      "30/30 [==============================] - 59s 2s/step - loss: 0.5027 - dice_coe: 0.4973 - val_loss: 0.6792 - val_dice_coe: 0.3208\n",
      "Epoch 85/500\n",
      "30/30 [==============================] - 59s 2s/step - loss: 0.4998 - dice_coe: 0.5002 - val_loss: 0.6850 - val_dice_coe: 0.3150\n",
      "Epoch 86/500\n",
      "30/30 [==============================] - 59s 2s/step - loss: 0.4967 - dice_coe: 0.5033 - val_loss: 0.6830 - val_dice_coe: 0.3170\n",
      "Epoch 87/500\n",
      "30/30 [==============================] - 59s 2s/step - loss: 0.4962 - dice_coe: 0.5038 - val_loss: 0.6739 - val_dice_coe: 0.3261\n",
      "Epoch 88/500\n",
      "30/30 [==============================] - 59s 2s/step - loss: 0.4964 - dice_coe: 0.5036 - val_loss: 0.6557 - val_dice_coe: 0.3443\n",
      "Epoch 89/500\n",
      "30/30 [==============================] - 59s 2s/step - loss: 0.4933 - dice_coe: 0.5067 - val_loss: 0.6822 - val_dice_coe: 0.3178\n",
      "Epoch 90/500\n",
      "30/30 [==============================] - 59s 2s/step - loss: 0.4890 - dice_coe: 0.5110 - val_loss: 0.6721 - val_dice_coe: 0.3279\n",
      "Epoch 91/500\n",
      "30/30 [==============================] - 59s 2s/step - loss: 0.4869 - dice_coe: 0.5131 - val_loss: 0.6879 - val_dice_coe: 0.3121\n",
      "Epoch 92/500\n",
      "30/30 [==============================] - 59s 2s/step - loss: 0.4859 - dice_coe: 0.5141 - val_loss: 0.6878 - val_dice_coe: 0.3122\n",
      "Epoch 93/500\n",
      "30/30 [==============================] - 59s 2s/step - loss: 0.4839 - dice_coe: 0.5161 - val_loss: 0.6786 - val_dice_coe: 0.3214\n",
      "Epoch 94/500\n",
      "30/30 [==============================] - 59s 2s/step - loss: 0.4813 - dice_coe: 0.5187 - val_loss: 0.6546 - val_dice_coe: 0.3454\n",
      "Epoch 95/500\n",
      "30/30 [==============================] - 59s 2s/step - loss: 0.4792 - dice_coe: 0.5208 - val_loss: 0.6718 - val_dice_coe: 0.3282\n",
      "Epoch 96/500\n",
      "29/30 [============================>.] - ETA: 1s - loss: 0.4791 - dice_coe: 0.5209"
     ]
    },
    {
     "name": "stderr",
     "output_type": "stream",
     "text": [
      "IOPub message rate exceeded.\n",
      "The notebook server will temporarily stop sending output\n",
      "to the client in order to avoid crashing it.\n",
      "To change this limit, set the config variable\n",
      "`--NotebookApp.iopub_msg_rate_limit`.\n",
      "\n",
      "Current values:\n",
      "NotebookApp.iopub_msg_rate_limit=1000.0 (msgs/sec)\n",
      "NotebookApp.rate_limit_window=3.0 (secs)\n",
      "\n"
     ]
    },
    {
     "name": "stdout",
     "output_type": "stream",
     "text": [
      "30/30 [==============================] - 59s 2s/step - loss: 0.2512 - dice_coe: 0.7488 - val_loss: 0.5075 - val_dice_coe: 0.4925\n",
      "Epoch 324/500\n",
      "30/30 [==============================] - 59s 2s/step - loss: 0.2489 - dice_coe: 0.7511 - val_loss: 0.5039 - val_dice_coe: 0.4961\n",
      "Epoch 325/500\n",
      "30/30 [==============================] - 59s 2s/step - loss: 0.2479 - dice_coe: 0.7521 - val_loss: 0.5013 - val_dice_coe: 0.4987\n",
      "Epoch 326/500\n",
      "30/30 [==============================] - 59s 2s/step - loss: 0.2479 - dice_coe: 0.7521 - val_loss: 0.5185 - val_dice_coe: 0.4815\n",
      "Epoch 327/500\n",
      "30/30 [==============================] - 59s 2s/step - loss: 0.2467 - dice_coe: 0.7533 - val_loss: 0.5001 - val_dice_coe: 0.4999\n",
      "Epoch 328/500\n",
      "30/30 [==============================] - 59s 2s/step - loss: 0.2459 - dice_coe: 0.7541 - val_loss: 0.5000 - val_dice_coe: 0.5000\n",
      "Epoch 329/500\n",
      "30/30 [==============================] - 59s 2s/step - loss: 0.2449 - dice_coe: 0.7551 - val_loss: 0.4868 - val_dice_coe: 0.5132\n",
      "Epoch 330/500\n",
      "30/30 [==============================] - 59s 2s/step - loss: 0.2430 - dice_coe: 0.7570 - val_loss: 0.5163 - val_dice_coe: 0.4837\n",
      "Epoch 331/500\n",
      "30/30 [==============================] - 59s 2s/step - loss: 0.2416 - dice_coe: 0.7584 - val_loss: 0.5012 - val_dice_coe: 0.4988\n",
      "Epoch 332/500\n",
      "30/30 [==============================] - 59s 2s/step - loss: 0.2404 - dice_coe: 0.7596 - val_loss: 0.4839 - val_dice_coe: 0.5161\n",
      "Epoch 333/500\n",
      "30/30 [==============================] - 59s 2s/step - loss: 0.2394 - dice_coe: 0.7606 - val_loss: 0.5024 - val_dice_coe: 0.4976\n",
      "Epoch 334/500\n",
      "30/30 [==============================] - 59s 2s/step - loss: 0.2386 - dice_coe: 0.7614 - val_loss: 0.4777 - val_dice_coe: 0.5223\n",
      "Epoch 335/500\n",
      "30/30 [==============================] - 59s 2s/step - loss: 0.2378 - dice_coe: 0.7622 - val_loss: 0.4767 - val_dice_coe: 0.5233\n",
      "Epoch 336/500\n",
      "30/30 [==============================] - 59s 2s/step - loss: 0.2372 - dice_coe: 0.7628 - val_loss: 0.4944 - val_dice_coe: 0.5056\n",
      "Epoch 337/500\n",
      "30/30 [==============================] - 59s 2s/step - loss: 0.2369 - dice_coe: 0.7631 - val_loss: 0.4887 - val_dice_coe: 0.5113\n",
      "Epoch 338/500\n",
      "30/30 [==============================] - 60s 2s/step - loss: 0.2352 - dice_coe: 0.7648 - val_loss: 0.4927 - val_dice_coe: 0.5073\n",
      "Epoch 339/500\n",
      "30/30 [==============================] - 59s 2s/step - loss: 0.2344 - dice_coe: 0.7656 - val_loss: 0.4815 - val_dice_coe: 0.5185\n",
      "Epoch 340/500\n",
      "30/30 [==============================] - 59s 2s/step - loss: 0.2328 - dice_coe: 0.7672 - val_loss: 0.4967 - val_dice_coe: 0.5033\n",
      "Epoch 341/500\n",
      "30/30 [==============================] - 59s 2s/step - loss: 0.2325 - dice_coe: 0.7675 - val_loss: 0.5047 - val_dice_coe: 0.4953\n",
      "Epoch 342/500\n",
      "30/30 [==============================] - 59s 2s/step - loss: 0.2321 - dice_coe: 0.7679 - val_loss: 0.4827 - val_dice_coe: 0.5173\n",
      "Epoch 343/500\n",
      "30/30 [==============================] - 59s 2s/step - loss: 0.2311 - dice_coe: 0.7689 - val_loss: 0.4970 - val_dice_coe: 0.5030\n",
      "Epoch 344/500\n",
      "30/30 [==============================] - 59s 2s/step - loss: 0.2297 - dice_coe: 0.7703 - val_loss: 0.4858 - val_dice_coe: 0.5142\n",
      "Epoch 345/500\n",
      "30/30 [==============================] - 59s 2s/step - loss: 0.2273 - dice_coe: 0.7727 - val_loss: 0.4746 - val_dice_coe: 0.5254\n",
      "Epoch 346/500\n",
      "30/30 [==============================] - 59s 2s/step - loss: 0.2259 - dice_coe: 0.7741 - val_loss: 0.4807 - val_dice_coe: 0.5193\n",
      "Epoch 347/500\n",
      "30/30 [==============================] - 59s 2s/step - loss: 0.2250 - dice_coe: 0.7750 - val_loss: 0.5002 - val_dice_coe: 0.4998\n",
      "Epoch 348/500\n",
      "30/30 [==============================] - 59s 2s/step - loss: 0.2254 - dice_coe: 0.7746 - val_loss: 0.4959 - val_dice_coe: 0.5041\n",
      "Epoch 349/500\n",
      "30/30 [==============================] - 59s 2s/step - loss: 0.2255 - dice_coe: 0.7745 - val_loss: 0.4854 - val_dice_coe: 0.5146\n",
      "Epoch 350/500\n",
      "30/30 [==============================] - 59s 2s/step - loss: 0.2249 - dice_coe: 0.7751 - val_loss: 0.4898 - val_dice_coe: 0.5102\n",
      "Epoch 351/500\n",
      "30/30 [==============================] - 59s 2s/step - loss: 0.2247 - dice_coe: 0.7753 - val_loss: 0.4869 - val_dice_coe: 0.5131\n",
      "Epoch 352/500\n",
      "30/30 [==============================] - 59s 2s/step - loss: 0.2222 - dice_coe: 0.7778 - val_loss: 0.4832 - val_dice_coe: 0.5168\n",
      "Epoch 353/500\n",
      "30/30 [==============================] - 60s 2s/step - loss: 0.2214 - dice_coe: 0.7786 - val_loss: 0.4884 - val_dice_coe: 0.5116\n",
      "Epoch 354/500\n",
      "30/30 [==============================] - 59s 2s/step - loss: 0.2204 - dice_coe: 0.7796 - val_loss: 0.4746 - val_dice_coe: 0.5254\n",
      "Epoch 355/500\n",
      "30/30 [==============================] - 60s 2s/step - loss: 0.2189 - dice_coe: 0.7811 - val_loss: 0.4613 - val_dice_coe: 0.5387\n",
      "Epoch 356/500\n",
      "30/30 [==============================] - 59s 2s/step - loss: 0.2168 - dice_coe: 0.7832 - val_loss: 0.4594 - val_dice_coe: 0.5406\n",
      "Epoch 357/500\n",
      "30/30 [==============================] - 59s 2s/step - loss: 0.2158 - dice_coe: 0.7842 - val_loss: 0.4629 - val_dice_coe: 0.5371\n",
      "Epoch 358/500\n",
      "30/30 [==============================] - 59s 2s/step - loss: 0.2143 - dice_coe: 0.7857 - val_loss: 0.4687 - val_dice_coe: 0.5313\n",
      "Epoch 359/500\n",
      "30/30 [==============================] - 59s 2s/step - loss: 0.2141 - dice_coe: 0.7859 - val_loss: 0.4719 - val_dice_coe: 0.5281\n",
      "Epoch 360/500\n",
      "30/30 [==============================] - 59s 2s/step - loss: 0.2126 - dice_coe: 0.7874 - val_loss: 0.4647 - val_dice_coe: 0.5353\n",
      "Epoch 361/500\n",
      "30/30 [==============================] - 60s 2s/step - loss: 0.2114 - dice_coe: 0.7886 - val_loss: 0.4827 - val_dice_coe: 0.5173\n",
      "Epoch 362/500\n",
      "30/30 [==============================] - 59s 2s/step - loss: 0.2105 - dice_coe: 0.7895 - val_loss: 0.4566 - val_dice_coe: 0.5434\n",
      "Epoch 363/500\n",
      "30/30 [==============================] - 59s 2s/step - loss: 0.2102 - dice_coe: 0.7898 - val_loss: 0.4870 - val_dice_coe: 0.5130\n",
      "Epoch 364/500\n",
      "30/30 [==============================] - 59s 2s/step - loss: 0.2108 - dice_coe: 0.7892 - val_loss: 0.4668 - val_dice_coe: 0.5332\n",
      "Epoch 365/500\n",
      "30/30 [==============================] - 59s 2s/step - loss: 0.2102 - dice_coe: 0.7898 - val_loss: 0.4611 - val_dice_coe: 0.5389\n",
      "Epoch 366/500\n",
      "30/30 [==============================] - 59s 2s/step - loss: 0.2097 - dice_coe: 0.7903 - val_loss: 0.4767 - val_dice_coe: 0.5233\n",
      "Epoch 367/500\n",
      "30/30 [==============================] - 59s 2s/step - loss: 0.2076 - dice_coe: 0.7924 - val_loss: 0.4669 - val_dice_coe: 0.5331\n",
      "Epoch 368/500\n",
      "30/30 [==============================] - 59s 2s/step - loss: 0.2059 - dice_coe: 0.7941 - val_loss: 0.4565 - val_dice_coe: 0.5435\n",
      "Epoch 369/500\n",
      "30/30 [==============================] - 59s 2s/step - loss: 0.2055 - dice_coe: 0.7945 - val_loss: 0.4642 - val_dice_coe: 0.5358\n",
      "Epoch 370/500\n",
      "30/30 [==============================] - 59s 2s/step - loss: 0.2057 - dice_coe: 0.7943 - val_loss: 0.4634 - val_dice_coe: 0.5366\n",
      "Epoch 371/500\n",
      "30/30 [==============================] - 60s 2s/step - loss: 0.2028 - dice_coe: 0.7972 - val_loss: 0.4628 - val_dice_coe: 0.5372\n",
      "Epoch 372/500\n",
      "30/30 [==============================] - 59s 2s/step - loss: 0.2021 - dice_coe: 0.7979 - val_loss: 0.4543 - val_dice_coe: 0.5457\n",
      "Epoch 373/500\n",
      "30/30 [==============================] - 59s 2s/step - loss: 0.2003 - dice_coe: 0.7997 - val_loss: 0.4419 - val_dice_coe: 0.5581\n",
      "Epoch 374/500\n",
      "30/30 [==============================] - 59s 2s/step - loss: 0.2001 - dice_coe: 0.7999 - val_loss: 0.4445 - val_dice_coe: 0.5555\n",
      "Epoch 375/500\n",
      "30/30 [==============================] - 59s 2s/step - loss: 0.1985 - dice_coe: 0.8015 - val_loss: 0.4632 - val_dice_coe: 0.5368\n",
      "Epoch 376/500\n",
      "30/30 [==============================] - 59s 2s/step - loss: 0.1974 - dice_coe: 0.8026 - val_loss: 0.4503 - val_dice_coe: 0.5497\n",
      "Epoch 377/500\n",
      "30/30 [==============================] - 59s 2s/step - loss: 0.1972 - dice_coe: 0.8028 - val_loss: 0.4655 - val_dice_coe: 0.5345\n",
      "Epoch 378/500\n",
      "30/30 [==============================] - 59s 2s/step - loss: 0.1970 - dice_coe: 0.8030 - val_loss: 0.4507 - val_dice_coe: 0.5493\n",
      "Epoch 379/500\n",
      "30/30 [==============================] - 59s 2s/step - loss: 0.1965 - dice_coe: 0.8035 - val_loss: 0.4525 - val_dice_coe: 0.5475\n",
      "Epoch 380/500\n",
      "30/30 [==============================] - 59s 2s/step - loss: 0.1963 - dice_coe: 0.8037 - val_loss: 0.4475 - val_dice_coe: 0.5525\n",
      "Epoch 381/500\n",
      "30/30 [==============================] - 59s 2s/step - loss: 0.1960 - dice_coe: 0.8040 - val_loss: 0.4481 - val_dice_coe: 0.5519\n",
      "Epoch 382/500\n",
      "30/30 [==============================] - 59s 2s/step - loss: 0.1939 - dice_coe: 0.8061 - val_loss: 0.4441 - val_dice_coe: 0.5559\n",
      "Epoch 383/500\n",
      "30/30 [==============================] - 59s 2s/step - loss: 0.1931 - dice_coe: 0.8069 - val_loss: 0.4455 - val_dice_coe: 0.5545\n",
      "Epoch 384/500\n",
      "30/30 [==============================] - 59s 2s/step - loss: 0.1927 - dice_coe: 0.8073 - val_loss: 0.4529 - val_dice_coe: 0.5471\n",
      "Epoch 385/500\n",
      "30/30 [==============================] - 59s 2s/step - loss: 0.1923 - dice_coe: 0.8077 - val_loss: 0.4515 - val_dice_coe: 0.5485\n",
      "Epoch 386/500\n",
      "30/30 [==============================] - 59s 2s/step - loss: 0.1921 - dice_coe: 0.8079 - val_loss: 0.4541 - val_dice_coe: 0.5459\n",
      "Epoch 387/500\n",
      "30/30 [==============================] - 59s 2s/step - loss: 0.1913 - dice_coe: 0.8087 - val_loss: 0.4498 - val_dice_coe: 0.5502\n",
      "Epoch 388/500\n",
      "30/30 [==============================] - 59s 2s/step - loss: 0.1913 - dice_coe: 0.8087 - val_loss: 0.4383 - val_dice_coe: 0.5617\n",
      "Epoch 389/500\n",
      "30/30 [==============================] - 59s 2s/step - loss: 0.1899 - dice_coe: 0.8101 - val_loss: 0.4517 - val_dice_coe: 0.5483\n",
      "Epoch 390/500\n",
      "30/30 [==============================] - 59s 2s/step - loss: 0.1887 - dice_coe: 0.8113 - val_loss: 0.4516 - val_dice_coe: 0.5484\n",
      "Epoch 391/500\n",
      "30/30 [==============================] - 59s 2s/step - loss: 0.1880 - dice_coe: 0.8120 - val_loss: 0.4571 - val_dice_coe: 0.5429\n",
      "Epoch 392/500\n",
      "30/30 [==============================] - 59s 2s/step - loss: 0.1876 - dice_coe: 0.8124 - val_loss: 0.4420 - val_dice_coe: 0.5580\n",
      "Epoch 393/500\n",
      "30/30 [==============================] - 59s 2s/step - loss: 0.1875 - dice_coe: 0.8125 - val_loss: 0.4625 - val_dice_coe: 0.5375\n",
      "Epoch 394/500\n",
      "30/30 [==============================] - 60s 2s/step - loss: 0.1864 - dice_coe: 0.8136 - val_loss: 0.4464 - val_dice_coe: 0.5536\n",
      "Epoch 395/500\n",
      "30/30 [==============================] - 59s 2s/step - loss: 0.1848 - dice_coe: 0.8152 - val_loss: 0.4419 - val_dice_coe: 0.5581\n",
      "Epoch 396/500\n",
      "30/30 [==============================] - 60s 2s/step - loss: 0.1845 - dice_coe: 0.8155 - val_loss: 0.4331 - val_dice_coe: 0.5669\n",
      "Epoch 397/500\n",
      "30/30 [==============================] - 59s 2s/step - loss: 0.1842 - dice_coe: 0.8158 - val_loss: 0.4591 - val_dice_coe: 0.5409\n",
      "Epoch 398/500\n",
      "30/30 [==============================] - 59s 2s/step - loss: 0.1846 - dice_coe: 0.8154 - val_loss: 0.4346 - val_dice_coe: 0.5654\n",
      "Epoch 399/500\n",
      "30/30 [==============================] - 59s 2s/step - loss: 0.1834 - dice_coe: 0.8166 - val_loss: 0.4392 - val_dice_coe: 0.5608\n",
      "Epoch 400/500\n",
      "30/30 [==============================] - 59s 2s/step - loss: 0.1833 - dice_coe: 0.8167 - val_loss: 0.4395 - val_dice_coe: 0.5605\n",
      "Epoch 401/500\n",
      "30/30 [==============================] - 59s 2s/step - loss: 0.1825 - dice_coe: 0.8175 - val_loss: 0.4569 - val_dice_coe: 0.5431\n",
      "Epoch 402/500\n",
      "30/30 [==============================] - 59s 2s/step - loss: 0.1820 - dice_coe: 0.8180 - val_loss: 0.4459 - val_dice_coe: 0.5541\n",
      "Epoch 403/500\n",
      "30/30 [==============================] - 60s 2s/step - loss: 0.1811 - dice_coe: 0.8189 - val_loss: 0.4538 - val_dice_coe: 0.5462\n",
      "Epoch 404/500\n",
      "30/30 [==============================] - 59s 2s/step - loss: 0.1816 - dice_coe: 0.8184 - val_loss: 0.4548 - val_dice_coe: 0.5452\n",
      "Epoch 405/500\n",
      "30/30 [==============================] - 59s 2s/step - loss: 0.1815 - dice_coe: 0.8185 - val_loss: 0.4467 - val_dice_coe: 0.5533\n",
      "Epoch 406/500\n",
      "30/30 [==============================] - 59s 2s/step - loss: 0.1816 - dice_coe: 0.8184 - val_loss: 0.4464 - val_dice_coe: 0.5536\n",
      "Epoch 407/500\n",
      "30/30 [==============================] - 59s 2s/step - loss: 0.1810 - dice_coe: 0.8190 - val_loss: 0.4537 - val_dice_coe: 0.5463\n",
      "Epoch 408/500\n",
      "30/30 [==============================] - 59s 2s/step - loss: 0.1807 - dice_coe: 0.8193 - val_loss: 0.4386 - val_dice_coe: 0.5614\n",
      "Epoch 409/500\n",
      "30/30 [==============================] - 59s 2s/step - loss: 0.1804 - dice_coe: 0.8196 - val_loss: 0.4368 - val_dice_coe: 0.5632\n",
      "Epoch 410/500\n",
      "30/30 [==============================] - 59s 2s/step - loss: 0.1804 - dice_coe: 0.8196 - val_loss: 0.4527 - val_dice_coe: 0.5473\n",
      "Epoch 411/500\n",
      "30/30 [==============================] - 59s 2s/step - loss: 0.1801 - dice_coe: 0.8199 - val_loss: 0.4405 - val_dice_coe: 0.5595\n",
      "Epoch 412/500\n",
      "30/30 [==============================] - 59s 2s/step - loss: 0.1790 - dice_coe: 0.8210 - val_loss: 0.4446 - val_dice_coe: 0.5554\n",
      "Epoch 413/500\n",
      "30/30 [==============================] - 59s 2s/step - loss: 0.1790 - dice_coe: 0.8210 - val_loss: 0.4313 - val_dice_coe: 0.5687\n",
      "Epoch 414/500\n",
      "30/30 [==============================] - 59s 2s/step - loss: 0.1777 - dice_coe: 0.8223 - val_loss: 0.4536 - val_dice_coe: 0.5464\n",
      "Epoch 415/500\n",
      "30/30 [==============================] - 59s 2s/step - loss: 0.1767 - dice_coe: 0.8233 - val_loss: 0.4389 - val_dice_coe: 0.5611\n",
      "Epoch 416/500\n",
      "30/30 [==============================] - ETA: 0s - loss: 0.1762 - dice_coe: 0.8238"
     ]
    },
    {
     "name": "stderr",
     "output_type": "stream",
     "text": [
      "IOPub message rate exceeded.\n",
      "The notebook server will temporarily stop sending output\n",
      "to the client in order to avoid crashing it.\n",
      "To change this limit, set the config variable\n",
      "`--NotebookApp.iopub_msg_rate_limit`.\n",
      "\n",
      "Current values:\n",
      "NotebookApp.iopub_msg_rate_limit=1000.0 (msgs/sec)\n",
      "NotebookApp.rate_limit_window=3.0 (secs)\n",
      "\n"
     ]
    }
   ],
   "source": [
    "history=Model_2D.fit(train_gen,\n",
    "                            validation_data=valid_gen,epochs=500,shuffle=True\n",
    "                              )"
   ]
  },
  {
   "cell_type": "code",
   "execution_count": 16,
   "id": "f4b32fff",
   "metadata": {},
   "outputs": [],
   "source": [
    "Model_2D.save('/home/centos/rabeea/maski/2Dunet_teeth_500.h5')"
   ]
  },
  {
   "cell_type": "code",
   "execution_count": 17,
   "id": "ed26a4ee",
   "metadata": {},
   "outputs": [
    {
     "data": {
      "image/png": "[encoded data removed]",
      "text/plain": [
       "<Figure size 432x288 with 1 Axes>"
      ]
     },
     "metadata": {
      "needs_background": "light"
     },
     "output_type": "display_data"
    }
   ],
   "source": [
    "#plot the training and validation IoU and loss at each epoch\n",
    "loss = history.history['loss']\n",
    "val_loss = history.history['val_loss']\n",
    "epochs = range(1, len(loss) + 1)\n",
    "plt.plot(epochs, loss, 'y', label='Training loss')\n",
    "plt.plot(epochs, val_loss, 'r', label='Validation loss')\n",
    "plt.title('Training and validation loss')\n",
    "plt.xlabel('Epochs')\n",
    "plt.ylabel('Loss')\n",
    "plt.legend()\n",
    "plt.show()"
   ]
  },
  {
   "cell_type": "code",
   "execution_count": 18,
   "id": "1ac4a60c",
   "metadata": {},
   "outputs": [
    {
     "data": {
      "image/png": "[encoded data removed]",
      "text/plain": [
       "<Figure size 432x288 with 1 Axes>"
      ]
     },
     "metadata": {
      "needs_background": "light"
     },
     "output_type": "display_data"
    }
   ],
   "source": [
    "acc = history.history['dice_coe']\n",
    "val_acc = history.history['val_dice_coe']\n",
    "\n",
    "plt.plot(epochs, acc, 'y', label='Training Dice coefficient')\n",
    "plt.plot(epochs, val_acc, 'r', label='Validation Dice Coefficient')\n",
    "plt.title('Training and validation Dice coefficient')\n",
    "plt.xlabel('Epochs')\n",
    "plt.ylabel('Dice Coefficient')\n",
    "plt.legend()\n",
    "plt.show()"
   ]
  },
  {
   "cell_type": "code",
   "execution_count": 52,
   "id": "8c9e896d",
   "metadata": {},
   "outputs": [],
   "source": [
    "y_pred=Model_2D.predict(train_gen.__getitem__(2)[0])\n",
    "y_pred_argmax=np.where(y_pred>0.5,1,0)\n",
    "true_msk=train_gen.__getitem__(2)[1]"
   ]
  },
  {
   "cell_type": "code",
   "execution_count": 53,
   "id": "3cdaec38",
   "metadata": {},
   "outputs": [
    {
     "data": {
      "text/plain": [
       "array([0, 1])"
      ]
     },
     "execution_count": 53,
     "metadata": {},
     "output_type": "execute_result"
    }
   ],
   "source": [
    "np.unique(y_pred_argmax)"
   ]
  },
  {
   "cell_type": "code",
   "execution_count": 54,
   "id": "48d95469",
   "metadata": {},
   "outputs": [],
   "source": [
    "gt= np.zeros([128,128],dtype=int)\n",
    "pred= np.zeros([128,128],dtype=int)\n",
    "for i in range (33):\n",
    "    gt= np.where(true_msk[0,:,:,i]==1,i,gt)\n",
    "    pred= np.where(y_pred_argmax[0,:,:,i]==1,i,pred)"
   ]
  },
  {
   "cell_type": "code",
   "execution_count": 55,
   "id": "b6792858",
   "metadata": {},
   "outputs": [
    {
     "data": {
      "image/png": "[encoded data removed]",
      "text/plain": [
       "<Figure size 720x720 with 1 Axes>"
      ]
     },
     "metadata": {
      "needs_background": "light"
     },
     "output_type": "display_data"
    }
   ],
   "source": [
    "plt.figure(figsize=(10,10))\n",
    "plt.imshow(gt,'gray')\n",
    "plt.show()"
   ]
  },
  {
   "cell_type": "code",
   "execution_count": 56,
   "id": "f065a1ad",
   "metadata": {},
   "outputs": [
    {
     "data": {
      "image/png": "[encoded data removed]",
      "text/plain": [
       "<Figure size 720x720 with 1 Axes>"
      ]
     },
     "metadata": {
      "needs_background": "light"
     },
     "output_type": "display_data"
    }
   ],
   "source": [
    "plt.figure(figsize=(10,10))\n",
    "plt.imshow(pred,'gray')\n",
    "plt.show()"
   ]
  },
  {
   "cell_type": "code",
   "execution_count": 38,
   "id": "0318adc4",
   "metadata": {},
   "outputs": [],
   "source": [
    "pred=pred.astype('float32')\n",
    "pred= cv2.resize(pred, (1991, 1127))"
   ]
  },
  {
   "cell_type": "code",
   "execution_count": 50,
   "id": "6791a4f2",
   "metadata": {},
   "outputs": [
    {
     "data": {
      "image/png": "[encoded data removed]",
      "text/plain": [
       "<Figure size 720x720 with 1 Axes>"
      ]
     },
     "metadata": {
      "needs_background": "light"
     },
     "output_type": "display_data"
    }
   ],
   "source": [
    "plt.figure(figsize=(10,10))\n",
    "plt.imshow(pred)\n",
    "plt.show()"
   ]
  },
  {
   "cell_type": "code",
   "execution_count": 44,
   "id": "9da355ef",
   "metadata": {},
   "outputs": [
    {
     "data": {
      "text/plain": [
       "(128, 128, 3)"
      ]
     },
     "execution_count": 44,
     "metadata": {},
     "output_type": "execute_result"
    }
   ],
   "source": [
    "np.shape(train_gen.__getitem__(2)[0][0])"
   ]
  },
  {
   "cell_type": "code",
   "execution_count": 51,
   "id": "5f58673b",
   "metadata": {},
   "outputs": [
    {
     "data": {
      "image/png": "[encoded data removed]",
      "text/plain": [
       "<Figure size 720x720 with 1 Axes>"
      ]
     },
     "metadata": {
      "needs_background": "light"
     },
     "output_type": "display_data"
    }
   ],
   "source": [
    "gt=gt.astype('float32')\n",
    "gt= cv2.resize(gt, (1991, 1127))\n",
    "original= cv2.resize(train_gen.__getitem__(2)[0][0].astype('float32'), (1991,1127))\n",
    "plt.figure(figsize=(10,10))\n",
    "# plt.imshow(original,alpha=0.5)\n",
    "plt.imshow(gt)\n",
    "plt.show()"
   ]
  },
  {
   "cell_type": "code",
   "execution_count": 46,
   "id": "2841417a",
   "metadata": {},
   "outputs": [
    {
     "data": {
      "text/plain": [
       "array([  1.       ,   1.0003203,   1.000507 , ..., 224.75215  ,\n",
       "       225.27463  , 226.77231  ], dtype=float32)"
      ]
     },
     "execution_count": 46,
     "metadata": {},
     "output_type": "execute_result"
    }
   ],
   "source": [
    "np.unique(original)"
   ]
  },
  {
   "cell_type": "code",
   "execution_count": 47,
   "id": "1e25b930",
   "metadata": {},
   "outputs": [
    {
     "data": {
      "text/plain": [
       "array([0.0000000e+00, 2.2058925e-05, 4.0109644e-05, ..., 3.1989443e+01,\n",
       "       3.1995832e+01, 3.2000000e+01], dtype=float32)"
      ]
     },
     "execution_count": 47,
     "metadata": {},
     "output_type": "execute_result"
    }
   ],
   "source": [
    "np.unique(gt)"
   ]
  },
  {
   "cell_type": "code",
   "execution_count": null,
   "id": "c9b2ae27",
   "metadata": {},
   "outputs": [],
   "source": []
  }
 ],
 "metadata": {
  "kernelspec": {
   "display_name": " beea38 ",
   "language": "python",
   "name": "beea38"
  },
  "language_info": {
   "codemirror_mode": {
    "name": "ipython",
    "version": 3
   },
   "file_extension": ".py",
   "mimetype": "text/x-python",
   "name": "python",
   "nbconvert_exporter": "python",
   "pygments_lexer": "ipython3",
   "version": "3.8.12"
  }
 },
 "nbformat": 4,
 "nbformat_minor": 5
}
